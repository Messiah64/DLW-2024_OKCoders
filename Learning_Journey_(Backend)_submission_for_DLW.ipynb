{
  "nbformat": 4,
  "nbformat_minor": 0,
  "metadata": {
    "colab": {
      "provenance": []
    },
    "kernelspec": {
      "name": "python3",
      "display_name": "Python 3"
    },
    "language_info": {
      "name": "python"
    }
  },
  "cells": [
    {
      "cell_type": "markdown",
      "source": [
        "FastAPI and OpenAI GPT-3.5-turbo Integration"
      ],
      "metadata": {
        "id": "1h6X0BhFvRoN"
      }
    },
    {
      "cell_type": "code",
      "execution_count": null,
      "metadata": {
        "id": "KebyCr_ouQau"
      },
      "outputs": [],
      "source": [
        "# Import Dependencies\n",
        "\n",
        "from fastapi import FastAPI\n",
        "from pydantic import BaseModel\n",
        "from langchain.document_loaders import S3FileLoader\n",
        "from fastapi.middleware.cors import CORSMiddleware\n",
        "import uuid\n",
        "from datetime import datetime\n",
        "import openai\n",
        "import re\n",
        "import os\n",
        "import dotenv\n",
        "import json\n",
        "import boto3\n"
      ]
    },
    {
      "cell_type": "markdown",
      "source": [
        "Configuring Environment"
      ],
      "metadata": {
        "id": "gCgHgXBXvxUW"
      }
    },
    {
      "cell_type": "code",
      "source": [
        "dotenv.load_dotenv()\n",
        "openai.api_key = os.getenv(\"OPENAI_API_KEY\")\n",
        "os.environ[\"AWS_ACCESS_KEY_ID\"] = os.getenv(\"NEXT_PUBLIC_S3_ACCESS_KEY_ID\")\n",
        "os.environ[\"AWS_SECRET_ACCESS_KEY\"] = os.getenv(\"NEXT_PUBLIC_S3_SECRET_ACCESS_KEY\")\n",
        "s3 = boto3.client(\n",
        "    \"s3\",\n",
        "    aws_access_key_id=os.getenv(\"NEXT_PUBLIC_S3_ACCESS_KEY_ID\"),\n",
        "    aws_secret_access_key=os.getenv(\"NEXT_PUBLIC_S3_SECRET_ACCESS_KEY\"),\n",
        ")\n"
      ],
      "metadata": {
        "id": "7m_FIIguv2T5"
      },
      "execution_count": null,
      "outputs": []
    },
    {
      "cell_type": "markdown",
      "source": [
        "Setting Up FastAPI to interface everything"
      ],
      "metadata": {
        "id": "ZSrdl5mWv5Co"
      }
    },
    {
      "cell_type": "code",
      "source": [
        "app = FastAPI()\n",
        "\n",
        "# CORS (Cross-Origin Resource Sharing) Middleware\n",
        "origins = [\"*\"]\n",
        "app.add_middleware(\n",
        "    CORSMiddleware,\n",
        "    allow_origins=origins,\n",
        "    allow_credentials=True,\n",
        "    allow_methods=[\"*\"],\n",
        "    allow_headers=[\"*\"],\n",
        ")\n"
      ],
      "metadata": {
        "id": "RODlCLWWwB0H"
      },
      "execution_count": null,
      "outputs": []
    },
    {
      "cell_type": "markdown",
      "source": [
        "Define Health Check for app status monitoring"
      ],
      "metadata": {
        "id": "zBcqWQTFwDmK"
      }
    },
    {
      "cell_type": "code",
      "source": [
        "@app.get(\"/\")\n",
        "def health_check():\n",
        "    print(\"health check!\")\n",
        "    return True\n"
      ],
      "metadata": {
        "id": "mCVm8hA7wPTp"
      },
      "execution_count": null,
      "outputs": []
    },
    {
      "cell_type": "markdown",
      "source": [
        "AWS S3 Endpoint for Content: /api/get-s3-*content*"
      ],
      "metadata": {
        "id": "-T6_Be_lwUUf"
      }
    },
    {
      "cell_type": "code",
      "source": [
        "class GetS3ContentRequestBody(BaseModel):\n",
        "    s3_file_key: str\n",
        "\n",
        "@app.post(\"/api/get-s3-content\")\n",
        "async def get_s3_content(body: GetS3ContentRequestBody):\n",
        "    # Load content from S3 and return it\n",
        "    loader = S3FileLoader(os.getenv(\"NEXT_PUBLIC_S3_BUCKET_NAME\"), body.s3_file_key)\n",
        "    content = json.loads(loader.load()[0].json())[\"page_content\"]\n",
        "    return content\n"
      ],
      "metadata": {
        "id": "NlgnPG5Gwad_"
      },
      "execution_count": null,
      "outputs": []
    },
    {
      "cell_type": "markdown",
      "source": [
        "AWS S3 Endpoint for Summarised Content: /api/get-summarised-s3-content"
      ],
      "metadata": {
        "id": "psAsGdiWwrap"
      }
    },
    {
      "cell_type": "code",
      "source": [
        "@app.post(\"/api/get-summarised-s3-content\")\n",
        "async def get_summarised_s3_content(body: GetS3ContentRequestBody):\n",
        "    # Load content from S3\n",
        "    loader = S3FileLoader(os.getenv(\"NEXT_PUBLIC_S3_BUCKET_NAME\"), body.s3_file_key)\n",
        "    content = json.loads(loader.load()[0].json())[\"page_content\"]\n",
        "\n",
        "    # Use OpenAI GPT-3.5-turbo to generate a summary\n",
        "    response = openai.ChatCompletion.create(\n",
        "        temperature=0.4,\n",
        "        model=\"gpt-3.5-turbo\",\n",
        "        messages=[\n",
        "            {\n",
        "                \"role\": \"system\",\n",
        "                \"content\": \"You are an AI capable of generating text summaries\",\n",
        "            },\n",
        "            {\n",
        "                \"role\": \"user\",\n",
        "                \"content\": f\"please summarise the following text: \\n\\n{content}\\n\\nsummary:\",\n",
        "            },\n",
        "        ],\n",
        "    )\n",
        "\n",
        "    res = response[\"choices\"][0][\"message\"][\"content\"]\n",
        "    return res\n"
      ],
      "metadata": {
        "id": "zURuFCGhw6QZ"
      },
      "execution_count": null,
      "outputs": []
    },
    {
      "cell_type": "markdown",
      "source": [
        "OpenAI Endpoint for generating Mermaid JS Mindmap"
      ],
      "metadata": {
        "id": "BaNEzJcQw_Ji"
      }
    },
    {
      "cell_type": "code",
      "source": [
        "class GenerateRequestBody(BaseModel):\n",
        "    content: str\n",
        "\n",
        "@app.post(\"/api/generate\")\n",
        "async def generate(body: GenerateRequestBody):\n",
        "    # Use OpenAI GPT-3.5-turbo to generate a mindmap mermaid diagram\n",
        "    response = await openai.ChatCompletion.create(\n",
        "        temperature=0.4,\n",
        "        model=\"gpt-3.5-turbo\",\n",
        "        messages=[\n",
        "            {\n",
        "                \"role\": \"system\",\n",
        "                \"content\": \"You are an AI capable of generating mermaid MD diagrams.\",\n",
        "            },\n",
        "            {\n",
        "                \"role\": \"user\",\n",
        "                \"content\": \"\"\"\n",
        "                follow the new mindmap syntax here to generate the mindmap mermaid diagram:\n",
        "\n",
        "                mindmap\n",
        "                  root((mindmap))\n",
        "                    Origins\n",
        "                      Long history\n",
        "                      ::icon(fa fa-book)\n",
        "                      Popularisation\n",
        "                        British popular psychology author Tony Buzan\n",
        "                    Research\n",
        "                      On effectiveness<br/>and features\n",
        "                      On Automatic creation\n",
        "                        Uses\n",
        "                            Creative techniques\n",
        "                            Strategic planning\n",
        "                            Argument mapping\n",
        "                    Tools\n",
        "                      Pen and paper\n",
        "                      Mermaid\n",
        "                \"\"\",\n",
        "            },\n",
        "            {\n",
        "                \"role\": \"user\",\n",
        "                \"content\": f\"Generate a mindmap mermaid diagram based on the following text: \\n\\n{body.content}\\n\\nmermaid diagram:\",\n",
        "            },\n",
        "        ],\n",
        "    )\n",
        "\n",
        "    res = response[\"choices\"][0][\"message\"][\"content\"]\n",
        "\n",
        "    # Extract content from between the ```mermaid``` tags\n",
        "    res = re.search(r\"```mermaid(.*)```\", res, re.DOTALL).group(1)\n",
        "    res = res.replace(\"```\", \"\")\n",
        "\n",
        "    # Save the mindmap diagram to temporary files\n",
        "    random_input_file = f\"input-{getUUID()}.mmd\"\n",
        "    random_output_file = f\"output-{getUUID()}.png\"\n",
        "\n",
        "    with open(random_input_file, \"w\") as f:\n",
        "        f.write(res)\n",
        "\n",
        "    # Use mmdc command to convert mindmap file to PNG image\n",
        "    try:\n",
        "        os.system(\n",
        "            f\"mmdc -i {random_input_file} -o {random_output_file} -t dark -b transparent -p puppeteer-config.json\"\n",
        "        )\n",
        "\n",
        "        # Upload the resulting PNG image to S3\n",
        "        s3.upload_file(\n",
        "            random_output_file,\n",
        "            os.getenv(\"NEXT_PUBLIC_S3_BUCKET_NAME\"),\n",
        "            f\"mermaid/{random_output_file}\",\n",
        "        )\n",
        "\n",
        "        # Delete temporary files\n",
        "        os.remove(random_input_file)\n",
        "        os.remove(random_output_file)\n",
        "\n",
        "        # Return the S3 URL of the generated mindmap\n",
        "        res = (\n",
        "            \"https://\"\n",
        "            + os.getenv(\"NEXT_PUBLIC_S3_BUCKET_NAME\")\n",
        "            + f\".s3.ap-southeast-1.amazonaws.com/mermaid/{random_output_file}\"\n",
        "        )\n",
        "        print(res)\n",
        "        return res\n",
        "    except Exception as e:\n",
        "        return \"\"\n"
      ],
      "metadata": {
        "id": "Xb16LZITxI43"
      },
      "execution_count": null,
      "outputs": []
    },
    {
      "cell_type": "markdown",
      "source": [
        "**FULL CODE**"
      ],
      "metadata": {
        "id": "ObMcbPHExV5s"
      }
    },
    {
      "cell_type": "code",
      "source": [
        "from fastapi import FastAPI\n",
        "from pydantic import BaseModel\n",
        "from langchain.document_loaders import S3FileLoader\n",
        "from fastapi.middleware.cors import CORSMiddleware\n",
        "import uuid\n",
        "\n",
        "\n",
        "def getUUID():\n",
        "    return str(uuid.uuid4())\n",
        "\n",
        "\n",
        "from datetime import datetime\n",
        "import openai\n",
        "import re\n",
        "import os\n",
        "import dotenv\n",
        "import json\n",
        "import boto3\n",
        "\n",
        "dotenv.load_dotenv()\n",
        "openai.api_key = os.getenv(\"OPENAI_API_KEY\")\n",
        "os.environ[\"AWS_ACCESS_KEY_ID\"] = os.getenv(\"NEXT_PUBLIC_S3_ACCESS_KEY_ID\")\n",
        "os.environ[\"AWS_SECRET_ACCESS_KEY\"] = os.getenv(\"NEXT_PUBLIC_S3_SECRET_ACCESS_KEY\")\n",
        "s3 = boto3.client(\n",
        "    \"s3\",\n",
        "    aws_access_key_id=os.getenv(\"NEXT_PUBLIC_S3_ACCESS_KEY_ID\"),\n",
        "    aws_secret_access_key=os.getenv(\"NEXT_PUBLIC_S3_SECRET_ACCESS_KEY\"),\n",
        ")\n",
        "\n",
        "app = FastAPI()\n",
        "\n",
        "origins = [\"*\"]\n",
        "\n",
        "app.add_middleware(\n",
        "    CORSMiddleware,\n",
        "    allow_origins=origins,\n",
        "    allow_credentials=True,\n",
        "    allow_methods=[\"*\"],\n",
        "    allow_headers=[\"*\"],\n",
        ")\n",
        "\n",
        "\n",
        "class GetS3ContentRequestBody(BaseModel):\n",
        "    s3_file_key: str\n",
        "\n",
        "@app.get(\"/\")\n",
        "def health_check():\n",
        "    print(\"health check!\")\n",
        "    return True\n",
        "\n",
        "@app.post(\"/api/get-s3-content\")\n",
        "async def get_s3_content(body: GetS3ContentRequestBody):\n",
        "    loader = S3FileLoader(os.getenv(\"NEXT_PUBLIC_S3_BUCKET_NAME\"), body.s3_file_key)\n",
        "    content = json.loads(loader.load()[0].json())[\"page_content\"]\n",
        "    return content\n",
        "\n",
        "\n",
        "@app.post(\"/api/get-summarised-s3-content\")\n",
        "async def get_summarised_s3_content(body: GetS3ContentRequestBody):\n",
        "    loader = S3FileLoader(os.getenv(\"NEXT_PUBLIC_S3_BUCKET_NAME\"), body.s3_file_key)\n",
        "    content = json.loads(loader.load()[0].json())[\"page_content\"]\n",
        "    response = openai.ChatCompletion.create(\n",
        "        temperature=0.4,\n",
        "        model=\"gpt-3.5-turbo\",\n",
        "        messages=[\n",
        "            {\n",
        "                \"role\": \"system\",\n",
        "                \"content\": \"You are an AI capable of generating text summaries\",\n",
        "            },\n",
        "            {\n",
        "                \"role\": \"user\",\n",
        "                \"content\": f\"\"\"\n",
        "please summarise the following text: \\n\\n{content}\\n\\nsummary:\n",
        "\"\"\",\n",
        "            },\n",
        "        ],\n",
        "    )\n",
        "\n",
        "    res = response[\"choices\"][0][\"message\"][\"content\"]\n",
        "    return res\n",
        "\n",
        "\n",
        "class GenerateRequestBody(BaseModel):\n",
        "    content: str\n",
        "\n",
        "\n",
        "@app.post(\"/api/generate\")\n",
        "async def generate(body: GenerateRequestBody):\n",
        "    print(\"generating for content\" + body.content[:10])\n",
        "    response = await openai.ChatCompletion.acreate(\n",
        "        temperature=0.4,\n",
        "        model=\"gpt-3.5-turbo\",\n",
        "        messages=[\n",
        "            {\n",
        "                \"role\": \"system\",\n",
        "                \"content\": \"You are an AI capable of generating mermaid MD diagrams.\",\n",
        "            },\n",
        "            {\n",
        "                \"role\": \"user\",\n",
        "                \"content\": \"\"\"\n",
        "follow the new mindmap syntax here to generate the mindmap mermaid diagram:\n",
        "\n",
        "mindmap\n",
        "  root((mindmap))\n",
        "    Origins\n",
        "      Long history\n",
        "      ::icon(fa fa-book)\n",
        "      Popularisation\n",
        "        British popular psychology author Tony Buzan\n",
        "    Research\n",
        "      On effectiveness<br/>and features\n",
        "      On Automatic creation\n",
        "        Uses\n",
        "            Creative techniques\n",
        "            Strategic planning\n",
        "            Argument mapping\n",
        "    Tools\n",
        "      Pen and paper\n",
        "      Mermaid\n",
        "\"\"\",\n",
        "            },\n",
        "            {\n",
        "                \"role\": \"user\",\n",
        "                \"content\": f\"\"\"Generate a mindmap mermaid diagram based on the following text: \\n\\n{body.content}\\n\\nmermaid diagram:\"\"\",\n",
        "            },\n",
        "        ],\n",
        "    )\n",
        "\n",
        "    res = response[\"choices\"][0][\"message\"][\"content\"]\n",
        "    # extract out the content from between the ```mermaid and ``` tags\n",
        "    res = re.search(r\"```mermaid(.*)```\", res, re.DOTALL).group(1)\n",
        "    res = res.replace(\"```\", \"\")\n",
        "\n",
        "    random_input_file = f\"input-{getUUID()}.mmd\"\n",
        "    random_output_file = f\"output-{getUUID()}.png\"\n",
        "\n",
        "    # output the res into a input.mmd file\n",
        "    with open(random_input_file, \"w\") as f:\n",
        "        f.write(res)\n",
        "    # mmdc -i input.mmd -o output.png -t dark -b transparent\n",
        "    try:\n",
        "        os.system(\n",
        "            f\"mmdc -i {random_input_file} -o {random_output_file} -t dark -b transparent -p puppeteer-config.json\"\n",
        "        )\n",
        "        s3.upload_file(\n",
        "            random_output_file,\n",
        "            os.getenv(\"NEXT_PUBLIC_S3_BUCKET_NAME\"),\n",
        "            f\"mermaid/{random_output_file}\",\n",
        "        )\n",
        "        # delete the input and output files\n",
        "        os.remove(random_input_file)\n",
        "        os.remove(random_output_file)\n",
        "        # return the s3 url\n",
        "        # https://whatthehack2023.s3.ap-southeast-1.amazonaws.com/mermaid/output.png\n",
        "        res = (\n",
        "            \"https://\"\n",
        "            + os.getenv(\"NEXT_PUBLIC_S3_BUCKET_NAME\")\n",
        "            + f\".s3.ap-southeast-1.amazonaws.com/mermaid/{random_output_file}\"\n",
        "        )\n",
        "        print(res)\n",
        "        return res\n",
        "    except Exception as e:\n",
        "        return \"\""
      ],
      "metadata": {
        "id": "bmD2M7_Yxa78"
      },
      "execution_count": null,
      "outputs": []
    }
  ]
}